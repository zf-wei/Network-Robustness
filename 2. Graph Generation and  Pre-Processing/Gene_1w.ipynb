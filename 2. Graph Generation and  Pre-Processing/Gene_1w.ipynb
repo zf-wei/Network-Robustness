{
 "cells": [
  {
   "cell_type": "code",
   "execution_count": 1,
   "id": "3bcc8adf",
   "metadata": {},
   "outputs": [],
   "source": [
    "import networkx as nx\n",
    "import numpy as np\n",
    "from networkx.generators.community import LFR_benchmark_graph\n",
    "from WGE.extract_membership import extract_intrinsic_membership\n",
    "\n",
    "n = 10000\n",
    "tau1 = 2  # Power-law exponent for the degree distribution\n",
    "tau2 = 1.1  # Power-law exponent for the community size distribution\n",
    "# mu = 0.1  # Mixing parameter\n",
    "avg_deg = 25  # Average Degree\n",
    "max_deg = int(0.1 * n)  # Max Degree\n",
    "min_commu = 200  # Min Community Size\n",
    "max_commu = int(0.1 * n)  # Max Community Size\n",
    "\n",
    "MU = [0.01, 0.1, 0.2, 0.3, 0.4, 0.5]\n",
    "\n",
    "for mu in MU:\n",
    "    G = LFR_benchmark_graph(\n",
    "        n, tau1, tau2, mu, average_degree=avg_deg, max_degree=max_deg, min_community=min_commu, max_community=max_commu,\n",
    "        seed=7\n",
    "    )\n",
    "\n",
    "    # Remove multi-edges and self-loops from G\n",
    "    G = nx.Graph(G)\n",
    "    selfloop_edges = list(nx.selfloop_edges(G))\n",
    "    G.remove_edges_from(selfloop_edges)\n",
    "\n",
    "\n",
    "    nx.write_edgelist(G, f\"graph_{n}_{mu}.edgelist\", delimiter=' ', data=False)\n",
    "    \n",
    "    intrinsic_membership = extract_intrinsic_membership(G)\n",
    "    membership_output_file = f\"graph_{n}_{mu}.membership\"\n",
    "    np.savetxt(membership_output_file, intrinsic_membership, delimiter=' ', fmt='%d')\n",
    "\n",
    "    # Get betweenness centrality and save it to a file\n",
    "    betweenness = list(nx.betweenness_centrality(G).values())\n",
    "    betweenness_output_file = f\"graph_{n}_{mu}.between\"\n",
    "    np.savetxt(betweenness_output_file, betweenness, delimiter=' ')"
   ]
  }
 ],
 "metadata": {
  "kernelspec": {
   "display_name": "Python 3 (ipykernel)",
   "language": "python",
   "name": "python3"
  },
  "language_info": {
   "codemirror_mode": {
    "name": "ipython",
    "version": 3
   },
   "file_extension": ".py",
   "mimetype": "text/x-python",
   "name": "python",
   "nbconvert_exporter": "python",
   "pygments_lexer": "ipython3",
   "version": "3.10.5"
  }
 },
 "nbformat": 4,
 "nbformat_minor": 5
}
