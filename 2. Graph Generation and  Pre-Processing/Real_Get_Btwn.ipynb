{
 "cells": [
  {
   "cell_type": "code",
   "execution_count": 1,
   "id": "87b1b8e2",
   "metadata": {},
   "outputs": [],
   "source": [
    "import networkx as nx\n",
    "import json\n",
    "import numpy as np\n",
    "\n",
    "\n",
    "def graph_get_btwn(N: int, mu: list):\n",
    "\n",
    "    with open(f'graph_{N}_{mu}.edgelist', 'r') as file:\n",
    "        lines = file.readlines()\n",
    "\n",
    "    ### Process the lines and create a list of number pairs\n",
    "    edge_list = []\n",
    "    for line in lines:\n",
    "        pair = tuple(map(int, line.strip().split()))\n",
    "        edge_list.append(pair)\n",
    "\n",
    "    ### 新建一个图 \n",
    "    G = nx.Graph()\n",
    "    ### 向图添加点和边\n",
    "    sorted_nodes = sorted(set(range(N)))\n",
    "    G.add_nodes_from(sorted_nodes)\n",
    "    G.add_edges_from(edge_list)\n",
    "    \n",
    "    print(nx.is_connected(G))\n",
    "    \n",
    "    betweenness = list(nx.betweenness_centrality(G).values())\n",
    "    betweenness_output_file = f\"graph_{N}_{mu}.between\"\n",
    "\n",
    "    np.savetxt(betweenness_output_file, betweenness, delimiter=' ')"
   ]
  }
 ],
 "metadata": {
  "kernelspec": {
   "display_name": "Python 3 (ipykernel)",
   "language": "python",
   "name": "python3"
  },
  "language_info": {
   "codemirror_mode": {
    "name": "ipython",
    "version": 3
   },
   "file_extension": ".py",
   "mimetype": "text/x-python",
   "name": "python",
   "nbconvert_exporter": "python",
   "pygments_lexer": "ipython3",
   "version": "3.10.5"
  }
 },
 "nbformat": 4,
 "nbformat_minor": 5
}
