{
 "cells": [
  {
   "cell_type": "code",
   "execution_count": 8,
   "id": "87b1b8e2",
   "metadata": {},
   "outputs": [
    {
     "name": "stdout",
     "output_type": "stream",
     "text": [
      "False\n",
      "986\n"
     ]
    }
   ],
   "source": [
    "import networkx as nx\n",
    "import json\n",
    "import numpy as np\n",
    "\n",
    "\n",
    "N=1005\n",
    "mu=0.01\n",
    "\n",
    "with open(f'graph_{N}_{mu}.edgelist', 'r') as file:\n",
    "        lines = file.readlines()\n",
    "\n",
    "### Process the lines and create a list of number pairs\n",
    "edge_list = []\n",
    "for line in lines:\n",
    "    pair = tuple(map(int, line.strip().split()))\n",
    "    edge_list.append(pair)\n",
    "\n",
    "### 新建一个图 \n",
    "G = nx.Graph()\n",
    "### 向图添加点和边\n",
    "sorted_nodes = sorted(set(range(N)))\n",
    "G.add_nodes_from(sorted_nodes)\n",
    "G.add_edges_from(edge_list)\n",
    "\n",
    "print(nx.is_connected(G))\n",
    "\n",
    "#betweenness = list(nx.betweenness_centrality(G).values())\n",
    "#betweenness_output_file = f\"graph_{N}_{mu}.between\"\n",
    "\n",
    "components = list(nx.connected_components(G))\n",
    "\n",
    "# Find the largest component\n",
    "largest_component = max(components, key=len)\n",
    "\n",
    "# Get the size (number of nodes) of the largest component\n",
    "largest_component_size = len(largest_component)\n",
    "print(largest_component_size)"
   ]
  },
  {
   "cell_type": "code",
   "execution_count": 2,
   "id": "b9189736",
   "metadata": {
    "scrolled": true
   },
   "outputs": [
    {
     "name": "stdout",
     "output_type": "stream",
     "text": [
      "Attribute value for node 0: 1\n"
     ]
    }
   ],
   "source": [
    "# Read the text file and add node attributes\n",
    "with open(\"graph_1005_0.01.membership\", \"r\") as file:\n",
    "    for line in file:\n",
    "        parts = line.strip().split()\n",
    "        if len(parts) == 2:\n",
    "            node_id, attribute_value = int(parts[0]), int(parts[1])\n",
    "            G.add_node(node_id, m=attribute_value)  # 'm' is the attribute name\n",
    "\n",
    "# You can access the node attributes like this:\n",
    "node_id = 0\n",
    "attribute_value = G.nodes[node_id]['m']\n",
    "print(f\"Attribute value for node {node_id}: {attribute_value}\")\n"
   ]
  },
  {
   "cell_type": "code",
   "execution_count": 3,
   "id": "5852909b",
   "metadata": {},
   "outputs": [],
   "source": [
    "components = list(nx.connected_components(G))\n",
    "\n",
    "largest_component = max(components, key=len)\n",
    "\n",
    "# Create the largest connected subgraph\n",
    "largest_subgraph = G.subgraph(largest_component)"
   ]
  },
  {
   "cell_type": "code",
   "execution_count": 4,
   "id": "e7fcc38d",
   "metadata": {},
   "outputs": [],
   "source": [
    "# Create a mapping to relabel nodes with consecutive numbers\n",
    "mapping = {old_label: new_label for new_label, old_label in enumerate(largest_subgraph.nodes())}\n",
    "\n",
    "# Relabel the nodes in the subgraph\n",
    "relabeled_subgraph = nx.relabel_nodes(largest_subgraph, mapping)"
   ]
  },
  {
   "cell_type": "code",
   "execution_count": 5,
   "id": "30509320",
   "metadata": {},
   "outputs": [],
   "source": [
    "all_m_values = [relabeled_subgraph.nodes[node]['m'] for node in relabeled_subgraph.nodes()]\n",
    "distinct_m_values = list(set(all_m_values))"
   ]
  },
  {
   "cell_type": "code",
   "execution_count": 9,
   "id": "a085ef5f",
   "metadata": {},
   "outputs": [],
   "source": [
    "nx.write_edgelist(relabeled_subgraph, f\"graph_{len(largest_component)}_{mu}.edgelist\", delimiter=' ', data=False)"
   ]
  },
  {
   "cell_type": "code",
   "execution_count": 10,
   "id": "8db059e3",
   "metadata": {},
   "outputs": [],
   "source": [
    "file_path = f\"graph_{len(largest_component)}_0.01.membership\"\n",
    "with open(file_path, 'w') as file:\n",
    "    # Iterate through the all_m_values list and write each value to a new line in the file\n",
    "    for value in all_m_values:\n",
    "        file.write(str(value) + '\\n')"
   ]
  }
 ],
 "metadata": {
  "kernelspec": {
   "display_name": "Python 3 (ipykernel)",
   "language": "python",
   "name": "python3"
  },
  "language_info": {
   "codemirror_mode": {
    "name": "ipython",
    "version": 3
   },
   "file_extension": ".py",
   "mimetype": "text/x-python",
   "name": "python",
   "nbconvert_exporter": "python",
   "pygments_lexer": "ipython3",
   "version": "3.10.5"
  }
 },
 "nbformat": 4,
 "nbformat_minor": 5
}
