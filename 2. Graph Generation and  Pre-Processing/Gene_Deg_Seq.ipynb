{
 "cells": [
  {
   "cell_type": "code",
   "execution_count": 1,
   "id": "ba2f614e",
   "metadata": {},
   "outputs": [],
   "source": [
    "from WGE.graph_input import graph_input_simple\n",
    "import numpy as np\n",
    "import networkx as nx"
   ]
  },
  {
   "cell_type": "code",
   "execution_count": 3,
   "id": "f54dc0e6",
   "metadata": {},
   "outputs": [],
   "source": [
    "N=1005\n",
    "mu=0.01\n",
    "disturb_type=1\n",
    "\n",
    "graph, membership, between = graph_input_simple(N=N, mu=mu, disturb_type=disturb_type)  \n",
    "degree_dict = dict(graph.degree())\n",
    "degree = list(degree_dict.values())\n",
    "output_file = f\"graph_{N}_{mu}.deg\"\n",
    "np.savetxt(output_file, degree, fmt='%d', delimiter=' ')"
   ]
  }
 ],
 "metadata": {
  "kernelspec": {
   "display_name": "Python 3 (ipykernel)",
   "language": "python",
   "name": "python3"
  },
  "language_info": {
   "codemirror_mode": {
    "name": "ipython",
    "version": 3
   },
   "file_extension": ".py",
   "mimetype": "text/x-python",
   "name": "python",
   "nbconvert_exporter": "python",
   "pygments_lexer": "ipython3",
   "version": "3.10.5"
  }
 },
 "nbformat": 4,
 "nbformat_minor": 5
}
